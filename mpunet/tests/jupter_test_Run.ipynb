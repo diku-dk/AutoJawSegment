{
 "cells": [
  {
   "cell_type": "code",
   "execution_count": 14,
   "metadata": {
    "collapsed": true
   },
   "outputs": [],
   "source": [
    "this_dir = '/home/px/'"
   ]
  },
  {
   "cell_type": "code",
   "execution_count": 15,
   "outputs": [
    {
     "name": "stdout",
     "output_type": "stream",
     "text": [
      "/home/px/MultiPlanarUNet\r\n",
      "HISTORY.rst  README.md\t\t mpunet\t\t  requirements.txt    setup.py\r\n",
      "LICENSE.txt  Task01_BrainTumour  mpunet.egg-info  requirements_extra\r\n",
      "MANIFEST.in  data_folder\t my_project\t  resources\r\n"
     ]
    }
   ],
   "source": [
    "!pwd\n",
    "!ls"
   ],
   "metadata": {
    "collapsed": false,
    "pycharm": {
     "name": "#%%\n"
    }
   }
  },
  {
   "cell_type": "code",
   "execution_count": 16,
   "outputs": [
    {
     "name": "stdout",
     "output_type": "stream",
     "text": [
      "/home/px\n"
     ]
    }
   ],
   "source": [
    "%cd {this_dir}\n",
    "\n",
    "!ls"
   ],
   "metadata": {
    "collapsed": false,
    "pycharm": {
     "name": "#%%\n"
    }
   }
  },
  {
   "cell_type": "code",
   "execution_count": 21,
   "outputs": [
    {
     "name": "stdout",
     "output_type": "stream",
     "text": [
      "Obtaining file:///home/px/MultiPlanarUNet\r\n",
      "Requirement already satisfied: matplotlib>=3.3.0 in ./anaconda3/lib/python3.8/site-packages (from mpunet==0.2.9) (3.3.2)\r\n",
      "Requirement already satisfied: scipy>=1.4.0 in ./anaconda3/lib/python3.8/site-packages (from mpunet==0.2.9) (1.5.2)\r\n",
      "Requirement already satisfied: numpy>=1.18.5 in ./anaconda3/lib/python3.8/site-packages (from mpunet==0.2.9) (1.19.2)\r\n",
      "Collecting nibabel>=3.1.0\r\n",
      "  Using cached nibabel-3.2.1-py3-none-any.whl (3.3 MB)\r\n",
      "Requirement already satisfied: pandas>=1.0.0 in ./anaconda3/lib/python3.8/site-packages (from mpunet==0.2.9) (1.1.3)\r\n",
      "Collecting ruamel.yaml>=0.16.0\r\n",
      "  Using cached ruamel.yaml-0.16.13-py2.py3-none-any.whl (111 kB)\r\n",
      "Requirement already satisfied: scikit_learn>=0.23.0 in ./anaconda3/lib/python3.8/site-packages (from mpunet==0.2.9) (0.23.2)\r\n",
      "Requirement already satisfied: h5py>=2.10.0 in ./anaconda3/lib/python3.8/site-packages (from mpunet==0.2.9) (2.10.0)\r\n",
      "Requirement already satisfied: psutil>=5.7.0 in ./anaconda3/lib/python3.8/site-packages (from mpunet==0.2.9) (5.7.2)\r\n",
      "Collecting tensorflow-gpu>=2.3.2\r\n",
      "  Downloading tensorflow_gpu-2.4.1-cp38-cp38-manylinux2010_x86_64.whl (394.4 MB)\r\n",
      "\u001B[K     |███████▉                        | 96.1 MB 8.1 kB/s eta 10:15:06\u001B[31mERROR: Exception:\r\n",
      "Traceback (most recent call last):\r\n",
      "  File \"/home/px/anaconda3/lib/python3.8/site-packages/pip/_vendor/urllib3/response.py\", line 437, in _error_catcher\r\n",
      "    yield\r\n",
      "  File \"/home/px/anaconda3/lib/python3.8/site-packages/pip/_vendor/urllib3/response.py\", line 519, in read\r\n",
      "    data = self._fp.read(amt) if not fp_closed else b\"\"\r\n",
      "  File \"/home/px/anaconda3/lib/python3.8/site-packages/pip/_vendor/cachecontrol/filewrapper.py\", line 62, in read\r\n",
      "    data = self.__fp.read(amt)\r\n",
      "  File \"/home/px/anaconda3/lib/python3.8/http/client.py\", line 458, in read\r\n",
      "    n = self.readinto(b)\r\n",
      "  File \"/home/px/anaconda3/lib/python3.8/http/client.py\", line 502, in readinto\r\n",
      "    n = self.fp.readinto(b)\r\n",
      "  File \"/home/px/anaconda3/lib/python3.8/socket.py\", line 669, in readinto\r\n",
      "    return self._sock.recv_into(b)\r\n",
      "  File \"/home/px/anaconda3/lib/python3.8/ssl.py\", line 1241, in recv_into\r\n",
      "    return self.read(nbytes, buffer)\r\n",
      "  File \"/home/px/anaconda3/lib/python3.8/ssl.py\", line 1099, in read\r\n",
      "    return self._sslobj.read(len, buffer)\r\n",
      "socket.timeout: The read operation timed out\r\n",
      "\r\n",
      "During handling of the above exception, another exception occurred:\r\n",
      "\r\n",
      "Traceback (most recent call last):\r\n",
      "  File \"/home/px/anaconda3/lib/python3.8/site-packages/pip/_internal/cli/base_command.py\", line 228, in _main\r\n",
      "    status = self.run(options, args)\r\n",
      "  File \"/home/px/anaconda3/lib/python3.8/site-packages/pip/_internal/cli/req_command.py\", line 182, in wrapper\r\n",
      "    return func(self, options, args)\r\n",
      "  File \"/home/px/anaconda3/lib/python3.8/site-packages/pip/_internal/commands/install.py\", line 323, in run\r\n",
      "    requirement_set = resolver.resolve(\r\n",
      "  File \"/home/px/anaconda3/lib/python3.8/site-packages/pip/_internal/resolution/legacy/resolver.py\", line 183, in resolve\r\n",
      "    discovered_reqs.extend(self._resolve_one(requirement_set, req))\r\n",
      "  File \"/home/px/anaconda3/lib/python3.8/site-packages/pip/_internal/resolution/legacy/resolver.py\", line 388, in _resolve_one\r\n",
      "    abstract_dist = self._get_abstract_dist_for(req_to_install)\r\n",
      "  File \"/home/px/anaconda3/lib/python3.8/site-packages/pip/_internal/resolution/legacy/resolver.py\", line 340, in _get_abstract_dist_for\r\n",
      "    abstract_dist = self.preparer.prepare_linked_requirement(req)\r\n",
      "  File \"/home/px/anaconda3/lib/python3.8/site-packages/pip/_internal/operations/prepare.py\", line 467, in prepare_linked_requirement\r\n",
      "    local_file = unpack_url(\r\n",
      "  File \"/home/px/anaconda3/lib/python3.8/site-packages/pip/_internal/operations/prepare.py\", line 255, in unpack_url\r\n",
      "    file = get_http_url(\r\n",
      "  File \"/home/px/anaconda3/lib/python3.8/site-packages/pip/_internal/operations/prepare.py\", line 129, in get_http_url\r\n",
      "    from_path, content_type = _download_http_url(\r\n",
      "  File \"/home/px/anaconda3/lib/python3.8/site-packages/pip/_internal/operations/prepare.py\", line 282, in _download_http_url\r\n",
      "    for chunk in download.chunks:\r\n",
      "  File \"/home/px/anaconda3/lib/python3.8/site-packages/pip/_internal/cli/progress_bars.py\", line 168, in iter\r\n",
      "    for x in it:\r\n",
      "  File \"/home/px/anaconda3/lib/python3.8/site-packages/pip/_internal/network/utils.py\", line 64, in response_chunks\r\n",
      "    for chunk in response.raw.stream(\r\n",
      "  File \"/home/px/anaconda3/lib/python3.8/site-packages/pip/_vendor/urllib3/response.py\", line 576, in stream\r\n",
      "    data = self.read(amt=amt, decode_content=decode_content)\r\n",
      "  File \"/home/px/anaconda3/lib/python3.8/site-packages/pip/_vendor/urllib3/response.py\", line 541, in read\r\n",
      "    raise IncompleteRead(self._fp_bytes_read, self.length_remaining)\r\n",
      "  File \"/home/px/anaconda3/lib/python3.8/contextlib.py\", line 131, in __exit__\r\n",
      "    self.gen.throw(type, value, traceback)\r\n",
      "  File \"/home/px/anaconda3/lib/python3.8/site-packages/pip/_vendor/urllib3/response.py\", line 442, in _error_catcher\r\n",
      "    raise ReadTimeoutError(self._pool, None, \"Read timed out.\")\r\n",
      "pip._vendor.urllib3.exceptions.ReadTimeoutError: HTTPSConnectionPool(host='files.pythonhosted.org', port=443): Read timed out.\u001B[0m\r\n"
     ]
    }
   ],
   "source": [
    "!pip install -e MultiPlanarUNet\n",
    "\n"
   ],
   "metadata": {
    "collapsed": false,
    "pycharm": {
     "name": "#%%\n"
    }
   }
  },
  {
   "cell_type": "code",
   "execution_count": 5,
   "outputs": [
    {
     "name": "stdout",
     "output_type": "stream",
     "text": [
      "/Users/px/GoogleDrive/MultiPlanarUNet\n"
     ]
    }
   ],
   "source": [
    "%cd MultiPlanarUNet"
   ],
   "metadata": {
    "collapsed": false,
    "pycharm": {
     "name": "#%%\n"
    }
   }
  },
  {
   "cell_type": "code",
   "execution_count": 6,
   "outputs": [
    {
     "name": "stdout",
     "output_type": "stream",
     "text": [
      "Already up to date.\r\n"
     ]
    }
   ],
   "source": [
    "!git pull"
   ],
   "metadata": {
    "collapsed": false,
    "pycharm": {
     "name": "#%%\n"
    }
   }
  },
  {
   "cell_type": "code",
   "execution_count": 7,
   "outputs": [
    {
     "name": "stdout",
     "output_type": "stream",
     "text": [
      "usage: mp [script] [script args...]\r\n",
      "\r\n",
      "Multi-Planar UNet (0.2.9)\r\n",
      "-------------------------\r\n",
      "Available scripts:\r\n",
      "- branch\r\n",
      "- cv_experiment\r\n",
      "- cv_split\r\n",
      "- init_project\r\n",
      "- predict\r\n",
      "- predict_3D\r\n",
      "- run_tests\r\n",
      "- summary\r\n",
      "- toy_data\r\n",
      "- train\r\n",
      "- train_fusion\r\n",
      "- trim_channels\r\n",
      "\r\n",
      "positional arguments:\r\n",
      "  {branch,cv_experiment,cv_split,init_project,predict,predict_3D,run_tests,summary,toy_data,train,train_fusion,trim_channels}\r\n",
      "                        Name of the mp script to run.\r\n",
      "  args                  Arguments passed to script\r\n",
      "\r\n",
      "optional arguments:\r\n",
      "  -h, --help            show this help message and exit\r\n"
     ]
    }
   ],
   "source": [
    "!mp --help\n"
   ],
   "metadata": {
    "collapsed": false,
    "pycharm": {
     "name": "#%%\n"
    }
   }
  },
  {
   "cell_type": "code",
   "execution_count": 15,
   "outputs": [
    {
     "name": "stdout",
     "output_type": "stream",
     "text": [
      "Could not locate result csv files.\r\n"
     ]
    }
   ],
   "source": [
    "!mp summary"
   ],
   "metadata": {
    "collapsed": false,
    "pycharm": {
     "name": "#%%\n"
    }
   }
  },
  {
   "cell_type": "code",
   "execution_count": 49,
   "outputs": [
    {
     "name": "stdout",
     "output_type": "stream",
     "text": [
      "/Users/px/GoogleDrive\r\n"
     ]
    }
   ],
   "source": [
    "!pwd"
   ],
   "metadata": {
    "collapsed": false,
    "pycharm": {
     "name": "#%%\n"
    }
   }
  },
  {
   "cell_type": "code",
   "execution_count": 55,
   "outputs": [],
   "source": [
    "# adjasdjsaio dsajd jdoi djsa\n",
    "# !rm -rf ./my_project"
   ],
   "metadata": {
    "collapsed": false,
    "pycharm": {
     "name": "#%%\n"
    }
   }
  },
  {
   "cell_type": "code",
   "execution_count": null,
   "outputs": [],
   "source": [],
   "metadata": {
    "collapsed": false,
    "pycharm": {
     "name": "#%%\n"
    }
   }
  },
  {
   "cell_type": "code",
   "execution_count": 56,
   "outputs": [
    {
     "name": "stdout",
     "output_type": "stream",
     "text": [
      "Setting value '/Users/px/GoogleDrive/MultiPlanarUNet/data_folder/train' (type <class 'str'>) in subdir 'train_data' with name 'base_dir'\r\n",
      "Setting value '/Users/px/GoogleDrive/MultiPlanarUNet/data_folder/val' (type <class 'str'>) in subdir 'val_data' with name 'base_dir'\r\n",
      "Setting value '/Users/px/GoogleDrive/MultiPlanarUNet/data_folder/test' (type <class 'str'>) in subdir 'test_data' with name 'base_dir'\r\n",
      "Setting value '/Users/px/GoogleDrive/MultiPlanarUNet/data_folder/aug' (type <class 'str'>) in subdir 'aug_data' with name 'base_dir'\r\n"
     ]
    }
   ],
   "source": [
    "!mp init_project --name my_project --data_dir ./data_folder"
   ],
   "metadata": {
    "collapsed": false,
    "pycharm": {
     "name": "#%%\n"
    }
   }
  },
  {
   "cell_type": "code",
   "execution_count": 8,
   "outputs": [
    {
     "name": "stdout",
     "output_type": "stream",
     "text": [
      "/Users/px/GoogleDrive/MultiPlanarUNet/my_project\n"
     ]
    }
   ],
   "source": [
    "%cd my_project"
   ],
   "metadata": {
    "collapsed": false,
    "pycharm": {
     "name": "#%%\n"
    }
   }
  },
  {
   "cell_type": "code",
   "execution_count": 10,
   "outputs": [
    {
     "name": "stdout",
     "output_type": "stream",
     "text": [
      "--------------------------------------------------------------------------------\r\n",
      ">>> Logged by: 'entry_func' in 'train.py'\r\n",
      "Fitting model in path:\r\n",
      "/Users/px/GoogleDrive/MultiPlanarUNet/my_project\r\n",
      "--------------------------------------------------------------------------------\r\n",
      ">>> Logged by: '__init__' in 'hparams.py'\r\n",
      "YAML path:    /Users/px/GoogleDrive/MultiPlanarUNet/my_project/train_hparams.yaml\r\n",
      "--------------------------------------------------------------------------------\r\n",
      ">>> Logged by: 'log_version' in 'version_controller.py'\r\n",
      "mpunet version: 0.2.9 (master, 73b3f9e)\r\n",
      "--------------------------------------------------------------------------------\r\n",
      ">>> Logged by: 'set_value' in 'hparams.py'\r\n",
      "Setting value '0.2.9' (type <class 'str'>) in subdir 'None' with name '__VERSION__'\r\n",
      "Setting value 'master' (type <class 'str'>) in subdir 'None' with name '__BRANCH__'\r\n",
      "Setting value '73b3f9e' (type <class 'str'>) in subdir 'None' with name '__COMMIT__'\r\n",
      "--------------------------------------------------------------------------------\r\n",
      ">>> Logged by: 'save_current' in 'hparams.py'\r\n",
      "Saving current YAML configuration to file:\r\n",
      " /Users/px/GoogleDrive/MultiPlanarUNet/my_project/train_hparams.yaml\r\n",
      "--------------------------------------------------------------------------------\r\n",
      ">>> Logged by: '_base_loader_func' in 'data_preparation_funcs.py'\r\n",
      "Looking for images...\r\n",
      "--------------------------------------------------------------------------------\r\n",
      ">>> Logged by: '_log' in 'image_pair_loader.py'\r\n",
      "ImagePairLoader(id=train, images=17, data_dir=/Users/px/GoogleDrive/MultiPlanarUNet/data_folder/train)\r\n",
      "--- Image subdir: /Users/px/GoogleDrive/MultiPlanarUNet/data_folder/train/images\r\n",
      "--- Label subdir: /Users/px/GoogleDrive/MultiPlanarUNet/data_folder/train/labels\r\n",
      "ImagePairLoader(id=val, images=15, data_dir=/Users/px/GoogleDrive/MultiPlanarUNet/data_folder/val)\r\n",
      "--- Image subdir: /Users/px/GoogleDrive/MultiPlanarUNet/data_folder/val/images\r\n",
      "--- Label subdir: /Users/px/GoogleDrive/MultiPlanarUNet/data_folder/val/labels\r\n",
      "--------------------------------------------------------------------------------\r\n",
      ">>> Logged by: 'log' in 'auditor.py'\r\n",
      "-------------------\r\n",
      "\r\n",
      "Audit for 32 images\r\n",
      "-------------------\r\n",
      "Total memory GiB:  0.449\r\n",
      "Number of classes: 3\r\n",
      "\r\n",
      "2D:\r\n",
      "Real space span:   200.000\r\n",
      "Sample dim:        320.000\r\n",
      "\r\n",
      "3D:\r\n",
      "Sample dim:        320\r\n",
      "Real space span:   200.000\r\n",
      "Box span:          200.000\r\n",
      "--------------------------------------------------------------------------------\r\n",
      ">>> Logged by: 'set_value' in 'hparams.py'\r\n",
      "Entry of name 'real_space_span' already set in subdir 'fit' with value '200.0'. Skipping (overwrite=False).\r\n",
      "Entry of name 'dim' already set in subdir 'build' with value '320'. Skipping (overwrite=False).\r\n",
      "Entry of name 'n_channels' already set in subdir 'build' with value '2'. Skipping (overwrite=False).\r\n",
      "Entry of name 'n_classes' already set in subdir 'build' with value '3'. Skipping (overwrite=False).\r\n",
      "--------------------------------------------------------------------------------\r\n",
      ">>> Logged by: 'save_current' in 'hparams.py'\r\n",
      "Saving current YAML configuration to file:\r\n",
      " /Users/px/GoogleDrive/MultiPlanarUNet/my_project/train_hparams.yaml\r\n",
      "--------------------------------------------------------------------------------\r\n",
      ">>> Logged by: '_base_loader_func' in 'data_preparation_funcs.py'\r\n",
      "Preparing dataset ImagePairLoader(id=train, images=17, data_dir=/Users/px/GoogleDrive/MultiPlanarUNet/data_folder/train)\r\n",
      "prostate_00\r\n",
      "--- loaded:     False\r\n",
      "--- shape:      [320 320  15   2]\r\n",
      "--- bg class    0\r\n",
      "--- bg value    ['1pct']\r\n",
      "--- scaler      RobustScaler\r\n",
      "--- real shape: [192. 192.  60.]\r\n",
      "--- pixdim:     [0.6 0.6 4. ]\r\n",
      "prostate_04\r\n",
      "--- loaded:     False\r\n",
      "--- shape:      [320 320  15   2]\r\n",
      "--- bg class    0\r\n",
      "--- bg value    ['1pct']\r\n",
      "--- scaler      RobustScaler\r\n",
      "--- real shape: [192. 192.  60.]\r\n",
      "--- pixdim:     [0.6 0.6 4. ]\r\n",
      "prostate_06\r\n",
      "--- loaded:     False\r\n",
      "--- shape:      [320 320  20   2]\r\n",
      "--- bg class    0\r\n",
      "--- bg value    ['1pct']\r\n",
      "--- scaler      RobustScaler\r\n",
      "--- real shape: [200. 200.  72.]\r\n",
      "--- pixdim:     [0.625 0.625 3.6  ]\r\n",
      "prostate_13\r\n",
      "--- loaded:     False\r\n",
      "--- shape:      [320 320  20   2]\r\n",
      "--- bg class    0\r\n",
      "--- bg value    ['1pct']\r\n",
      "--- scaler      RobustScaler\r\n",
      "--- real shape: [200. 200.  72.]\r\n",
      "--- pixdim:     [0.625 0.625 3.6  ]\r\n",
      "prostate_14\r\n",
      "--- loaded:     False\r\n",
      "--- shape:      [320 320  20   2]\r\n",
      "--- bg class    0\r\n",
      "--- bg value    ['1pct']\r\n",
      "--- scaler      RobustScaler\r\n",
      "--- real shape: [200. 200.  72.]\r\n",
      "--- pixdim:     [0.625 0.625 3.6  ]\r\n",
      "prostate_16\r\n",
      "--- loaded:     False\r\n",
      "--- shape:      [320 320  20   2]\r\n",
      "--- bg class    0\r\n",
      "--- bg value    ['1pct']\r\n",
      "--- scaler      RobustScaler\r\n",
      "--- real shape: [200. 200.  72.]\r\n",
      "--- pixdim:     [0.625 0.625 3.6  ]\r\n",
      "prostate_17\r\n",
      "--- loaded:     False\r\n",
      "--- shape:      [320 320  20   2]\r\n",
      "--- bg class    0\r\n",
      "--- bg value    ['1pct']\r\n",
      "--- scaler      RobustScaler\r\n",
      "--- real shape: [200. 200.  72.]\r\n",
      "--- pixdim:     [0.625 0.625 3.6  ]\r\n",
      "prostate_18\r\n",
      "--- loaded:     False\r\n",
      "--- shape:      [256 256  18   2]\r\n",
      "--- bg class    0\r\n",
      "--- bg value    ['1pct']\r\n",
      "--- scaler      RobustScaler\r\n",
      "--- real shape: [192. 192.  72.]\r\n",
      "--- pixdim:     [0.75 0.75 4.  ]\r\n",
      "prostate_20\r\n",
      "--- loaded:     False\r\n",
      "--- shape:      [320 320  20   2]\r\n",
      "--- bg class    0\r\n",
      "--- bg value    ['1pct']\r\n",
      "--- scaler      RobustScaler\r\n",
      "--- real shape: [200. 200.  72.]\r\n",
      "--- pixdim:     [0.625 0.625 3.6  ]\r\n",
      "prostate_25\r\n",
      "--- loaded:     False\r\n",
      "--- shape:      [320 320  19   2]\r\n",
      "--- bg class    0\r\n",
      "--- bg value    ['1pct']\r\n",
      "--- scaler      RobustScaler\r\n",
      "--- real shape: [200.  200.   68.4]\r\n",
      "--- pixdim:     [0.625 0.625 3.6  ]\r\n",
      "prostate_29\r\n",
      "--- loaded:     False\r\n",
      "--- shape:      [320 320  15   2]\r\n",
      "--- bg class    0\r\n",
      "--- bg value    ['1pct']\r\n",
      "--- scaler      RobustScaler\r\n",
      "--- real shape: [192. 192.  60.]\r\n",
      "--- pixdim:     [0.6 0.6 4. ]\r\n",
      "prostate_31\r\n",
      "--- loaded:     False\r\n",
      "--- shape:      [320 320  20   2]\r\n",
      "--- bg class    0\r\n",
      "--- bg value    ['1pct']\r\n",
      "--- scaler      RobustScaler\r\n",
      "--- real shape: [200. 200.  72.]\r\n",
      "--- pixdim:     [0.625 0.625 3.6  ]\r\n",
      "prostate_35\r\n",
      "--- loaded:     False\r\n",
      "--- shape:      [320 320  20   2]\r\n",
      "--- bg class    0\r\n",
      "--- bg value    ['1pct']\r\n",
      "--- scaler      RobustScaler\r\n",
      "--- real shape: [200. 200.  72.]\r\n",
      "--- pixdim:     [0.625 0.625 3.6  ]\r\n",
      "prostate_40\r\n",
      "--- loaded:     False\r\n",
      "--- shape:      [320 320  20   2]\r\n",
      "--- bg class    0\r\n",
      "--- bg value    ['1pct']\r\n",
      "--- scaler      RobustScaler\r\n",
      "--- real shape: [200. 200.  72.]\r\n",
      "--- pixdim:     [0.625 0.625 3.6  ]\r\n",
      "prostate_41\r\n",
      "--- loaded:     False\r\n",
      "--- shape:      [256 256  18   2]\r\n",
      "--- bg class    0\r\n",
      "--- bg value    ['1pct']\r\n",
      "--- scaler      RobustScaler\r\n",
      "--- real shape: [192. 192.  54.]\r\n",
      "--- pixdim:     [0.75 0.75 3.  ]\r\n",
      "prostate_46\r\n",
      "--- loaded:     False\r\n",
      "--- shape:      [320 320  20   2]\r\n",
      "--- bg class    0\r\n",
      "--- bg value    ['1pct']\r\n",
      "--- scaler      RobustScaler\r\n",
      "--- real shape: [200. 200.  72.]\r\n",
      "--- pixdim:     [0.625 0.625 3.6  ]\r\n",
      "prostate_47\r\n",
      "--- loaded:     False\r\n",
      "--- shape:      [320 320  20   2]\r\n",
      "--- bg class    0\r\n",
      "--- bg value    ['1pct']\r\n",
      "--- scaler      RobustScaler\r\n",
      "--- real shape: [200. 200.  72.]\r\n",
      "--- pixdim:     [0.625 0.625 3.6  ]\r\n",
      "--------------------------------------------------------------------------------\r\n",
      ">>> Logged by: '_base_loader_func' in 'data_preparation_funcs.py'\r\n",
      "Preparing dataset ImagePairLoader(id=val, images=15, data_dir=/Users/px/GoogleDrive/MultiPlanarUNet/data_folder/val)\r\n",
      "prostate_01\r\n",
      "--- loaded:     False\r\n",
      "--- shape:      [320 320  20   2]\r\n",
      "--- bg class    0\r\n",
      "--- bg value    ['1pct']\r\n",
      "--- scaler      RobustScaler\r\n",
      "--- real shape: [200. 200.  72.]\r\n",
      "--- pixdim:     [0.625 0.625 3.6  ]\r\n",
      "prostate_02\r\n",
      "--- loaded:     False\r\n",
      "--- shape:      [320 320  24   2]\r\n",
      "--- bg class    0\r\n",
      "--- bg value    ['1pct']\r\n",
      "--- scaler      RobustScaler\r\n",
      "--- real shape: [200.  200.   86.4]\r\n",
      "--- pixdim:     [0.625 0.625 3.6  ]\r\n",
      "prostate_07\r\n",
      "--- loaded:     False\r\n",
      "--- shape:      [320 320  20   2]\r\n",
      "--- bg class    0\r\n",
      "--- bg value    ['1pct']\r\n",
      "--- scaler      RobustScaler\r\n",
      "--- real shape: [200. 200.  72.]\r\n",
      "--- pixdim:     [0.625 0.625 3.6  ]\r\n",
      "prostate_10\r\n",
      "--- loaded:     False\r\n",
      "--- shape:      [320 320  20   2]\r\n",
      "--- bg class    0\r\n",
      "--- bg value    ['1pct']\r\n",
      "--- scaler      RobustScaler\r\n",
      "--- real shape: [200. 200.  72.]\r\n",
      "--- pixdim:     [0.625 0.625 3.6  ]\r\n",
      "prostate_21\r\n",
      "--- loaded:     False\r\n",
      "--- shape:      [320 320  20   2]\r\n",
      "--- bg class    0\r\n",
      "--- bg value    ['1pct']\r\n",
      "--- scaler      RobustScaler\r\n",
      "--- real shape: [200. 200.  72.]\r\n",
      "--- pixdim:     [0.625 0.625 3.6  ]\r\n",
      "prostate_24\r\n",
      "--- loaded:     False\r\n",
      "--- shape:      [320 320  20   2]\r\n",
      "--- bg class    0\r\n",
      "--- bg value    ['1pct']\r\n",
      "--- scaler      RobustScaler\r\n",
      "--- real shape: [200. 200.  72.]\r\n",
      "--- pixdim:     [0.625 0.625 3.6  ]\r\n",
      "prostate_28\r\n",
      "--- loaded:     False\r\n",
      "--- shape:      [384 384  11   2]\r\n",
      "--- bg class    0\r\n",
      "--- bg value    ['1pct']\r\n",
      "--- scaler      RobustScaler\r\n",
      "--- real shape: [232. 232.  44.]\r\n",
      "--- pixdim:     [0.604 0.604 4.   ]\r\n",
      "prostate_32\r\n",
      "--- loaded:     False\r\n",
      "--- shape:      [320 320  20   2]\r\n",
      "--- bg class    0\r\n",
      "--- bg value    ['1pct']\r\n",
      "--- scaler      RobustScaler\r\n",
      "--- real shape: [200. 200.  72.]\r\n",
      "--- pixdim:     [0.625 0.625 3.6  ]\r\n",
      "prostate_34\r\n",
      "--- loaded:     False\r\n",
      "--- shape:      [320 320  15   2]\r\n",
      "--- bg class    0\r\n",
      "--- bg value    ['1pct']\r\n",
      "--- scaler      RobustScaler\r\n",
      "--- real shape: [192. 192.  60.]\r\n",
      "--- pixdim:     [0.6 0.6 4. ]\r\n",
      "prostate_37\r\n",
      "--- loaded:     False\r\n",
      "--- shape:      [256 256  15   2]\r\n",
      "--- bg class    0\r\n",
      "--- bg value    ['1pct']\r\n",
      "--- scaler      RobustScaler\r\n",
      "--- real shape: [192. 192.  60.]\r\n",
      "--- pixdim:     [0.75 0.75 4.  ]\r\n",
      "prostate_38\r\n",
      "--- loaded:     False\r\n",
      "--- shape:      [320 320  20   2]\r\n",
      "--- bg class    0\r\n",
      "--- bg value    ['1pct']\r\n",
      "--- scaler      RobustScaler\r\n",
      "--- real shape: [200. 200.  72.]\r\n",
      "--- pixdim:     [0.625 0.625 3.6  ]\r\n",
      "prostate_39\r\n",
      "--- loaded:     False\r\n",
      "--- shape:      [320 320  15   2]\r\n",
      "--- bg class    0\r\n",
      "--- bg value    ['1pct']\r\n",
      "--- scaler      RobustScaler\r\n",
      "--- real shape: [192. 192.  60.]\r\n",
      "--- pixdim:     [0.6 0.6 4. ]\r\n",
      "prostate_42\r\n",
      "--- loaded:     False\r\n",
      "--- shape:      [320 320  22   2]\r\n",
      "--- bg class    0\r\n",
      "--- bg value    ['1pct']\r\n",
      "--- scaler      RobustScaler\r\n",
      "--- real shape: [200.  200.   79.2]\r\n",
      "--- pixdim:     [0.625 0.625 3.6  ]\r\n",
      "prostate_43\r\n",
      "--- loaded:     False\r\n",
      "--- shape:      [320 320  20   2]\r\n",
      "--- bg class    0\r\n",
      "--- bg value    ['1pct']\r\n",
      "--- scaler      RobustScaler\r\n",
      "--- real shape: [200. 200.  72.]\r\n",
      "--- pixdim:     [0.625 0.625 3.6  ]\r\n",
      "prostate_44\r\n",
      "--- loaded:     False\r\n",
      "--- shape:      [320 320  20   2]\r\n",
      "--- bg class    0\r\n",
      "--- bg value    ['1pct']\r\n",
      "--- scaler      RobustScaler\r\n",
      "--- real shape: [200. 200.  72.]\r\n",
      "--- pixdim:     [0.625 0.625 3.6  ]\r\n",
      "--------------------------------------------------------------------------------\r\n",
      ">>> Logged by: '__init__' in 'eager_queue.py'\r\n",
      "'Eager' queue created:\r\n",
      "  Dataset:      ImagePairLoader(id=train, images=17, data_dir=/Users/px/GoogleDrive/MultiPlanarUNet/data_folder/train)\r\n",
      "Preloading all 17 images now... (eager)\r\n",
      "'Eager' queue created:\r\n",
      "  Dataset:      ImagePairLoader(id=val, images=15, data_dir=/Users/px/GoogleDrive/MultiPlanarUNet/data_folder/val)\r\n",
      "Preloading all 15 images now... (eager)\r\n",
      "--------------------------------------------------------------------------------\r\n",
      ">>> Logged by: 'sample_random_views_with_angle_restriction' in 'sample_grid.py'\r\n",
      "Generating 6 random views...\r\n",
      "[OBS] Weighting random views by median res: [0.625 0.625 3.6  ]\r\n",
      "--------------------------------------------------------------------------------\r\n",
      ">>> Logged by: 'load_or_create_views' in 'data_preparation_funcs.py'\r\n",
      "View SD:     0.1\r\n",
      "--------------------------------------------------------------------------------\r\n",
      ">>> Logged by: 'prepare_for_multi_view_unet' in 'data_preparation_funcs.py'\r\n",
      "Views:       N=6\r\n",
      "             [ 0.23864447 -0.48726927  0.8400104 ]\r\n",
      "             [-0.02903682 -0.10268497  0.99429003]\r\n",
      "             [ 0.4361124  -0.84281119  0.31539701]\r\n",
      "             [-0.58054772 -0.64766202  0.49345542]\r\n",
      "             [-0.04452769  0.05448018  0.99752153]\r\n",
      "             [ 0.14896018 -0.12761429  0.98057405]\r\n",
      "\r\n",
      "--------------------------------------------------------------------------------\r\n",
      ">>> Logged by: 'get_sequencers' in 'data_preparation_funcs.py'\r\n",
      "Preparing sequence objects...\r\n",
      "--------------------------------------------------------------------------------\r\n",
      ">>> Logged by: 'get_sequence' in 'utils.py'\r\n",
      "Using on-the-fly augmenters:\r\n",
      "Elastic2D(alpha=[0, 450], sigma=[20, 30], apply_prob=0.333)\r\n",
      "--------------------------------------------------------------------------------\r\n",
      ">>> Logged by: 'log' in 'isotrophic_live_view_sequence_2d.py'\r\n",
      "\r\n",
      "Is validation:               False\r\n",
      "Using real space span:       200.0\r\n",
      "Using sample dim:            320\r\n",
      "Using real space sample res: 0.625\r\n",
      "N fg slices:                 8\r\n",
      "Batch size:                  16\r\n",
      "Force all FG:                True\r\n",
      "Noise SD:                    0.1\r\n",
      "Augmenters:                  [Elastic2D(alpha=[0, 450], sigma=[20, 30], apply_prob=0.333)]\r\n",
      "\r\n",
      "Is validation:               True\r\n",
      "Using real space span:       200.0\r\n",
      "Using sample dim:            320\r\n",
      "Using real space sample res: 0.625\r\n",
      "N fg slices:                 8\r\n",
      "Batch size:                  16\r\n",
      "Force all FG:                True\r\n",
      "Noise SD:                    0.0\r\n",
      "Augmenters:                  None\r\n",
      "Using CPU based computations only!\r\n",
      "2021-03-01 14:08:17.989564: I tensorflow/core/platform/cpu_feature_guard.cc:142] This TensorFlow binary is optimized with oneAPI Deep Neural Network Library (oneDNN)to use the following CPU instructions in performance-critical operations:  AVX2 AVX512F FMA\r\n",
      "To enable them in other operations, rebuild TensorFlow with the appropriate compiler flags.\r\n",
      "2021-03-01 14:08:18.023071: I tensorflow/compiler/xla/service/service.cc:168] XLA service 0x7f89e95ac8d0 initialized for platform Host (this does not guarantee that XLA will be used). Devices:\r\n",
      "2021-03-01 14:08:18.023090: I tensorflow/compiler/xla/service/service.cc:176]   StreamExecutor device (0): Host, Default Version\r\n",
      "WARNING:tensorflow:There are non-GPU devices in `tf.distribute.Strategy`, not using nccl allreduce.\r\n",
      "--------------------------------------------------------------------------------\r\n",
      ">>> Logged by: 'init_model' in 'model_init.py'\r\n",
      "Creating new model of type 'UNet'\r\n",
      "--------------------------------------------------------------------------------\r\n",
      ">>> Logged by: 'log' in 'unet.py'\r\n",
      "UNet Model Summary\r\n",
      "------------------\r\n",
      "Image rows:        320\r\n",
      "Image cols:        320\r\n",
      "Image channels:    2\r\n",
      "N classes:         3\r\n",
      "CF factor:         2.000\r\n",
      "Depth:             4\r\n",
      "l2 reg:            False\r\n",
      "Padding:           same\r\n",
      "Conv activation:   relu\r\n",
      "Out activation:    softmax\r\n",
      "Receptive field:   [155 155]\r\n",
      "N params:          62062178\r\n",
      "Output:            Tensor(\"flatten_output/Reshape:0\", shape=(None, 102400, 3), dtype=float32)\r\n",
      "Crop:              None\r\n",
      "--------------------------------------------------------------------------------\r\n",
      ">>> Logged by: 'set_bias_weights' in 'utils.py'\r\n",
      "OBS: Estimating class counts from 17 images\r\n",
      "Setting bias weights on output layer to:\r\n",
      "[ 0.33588417 -0.80534649 -0.48846582]\r\n",
      "--------------------------------------------------------------------------------\r\n",
      ">>> Logged by: 'compile_model' in 'trainer.py'\r\n",
      "Optimizer:   <tensorflow.python.keras.optimizer_v2.adam.Adam object at 0x7f89cb4ba730>\r\n",
      "Loss funcs:  [<tensorflow.python.keras.losses.SparseCategoricalCrossentropy object at 0x7f89cb4c2cd0>]\r\n",
      "Metrics:     <function init_metrics at 0x7f89cb9474c0>\r\n",
      "--------------------------------------------------------------------------------\r\n",
      ">>> Logged by: 'save_images' in 'plotting.py'\r\n",
      "Saving 64 sample images in '<project_dir>/images' folder\r\n",
      "--------------------------------------------------------------------------------\r\n",
      ">>> Logged by: '_fit' in 'trainer.py'\r\n",
      "Using 157 steps per train epoch (total batches=1000000000000)\r\n",
      "Using 219 steps per val epoch (total batches=1000000000000)\r\n",
      "--------------------------------------------------------------------------------\r\n",
      ">>> Logged by: 'init_callback_objects' in 'funcs.py'\r\n",
      "[1] Using callback: Validation(params=?)\r\n",
      "[2] Using callback: MeanReduceLogArrays(params=?)\r\n",
      "[3] Using callback: ReduceLROnPlateau(patience=2, factor=0.9, verbose=1, monitor=val_dice, mode=max)\r\n",
      "[4] Using callback: TensorBoard(log_dir=./tensorboard, profile_batch=0)\r\n",
      "[5] Using callback: ModelCheckPointClean(filepath=./model/@epoch_{epoch:02d}_val_dice_{val_dice:.5f}.h5, monitor=val_dice, save_best_only=True, save_weights_only=True, verbose=1, mode=max)\r\n",
      "[6] Using callback: EarlyStopping(monitor=val_dice, min_delta=0, patience=15, verbose=1, mode=max)\r\n",
      "[7] Using callback: TrainTimer(verbose=True, logger=Logger(base_path=/Users/px/GoogleDrive/MultiPlanarUNet/my_project, print_to_screen=True, overwrite_existing=False, append_existing=False))\r\n",
      "[8] Using callback: CSVLogger(filename=logs/training.csv, separator=,, append=True)\r\n",
      "[9] Using callback: FGBatchBalancer(params=?)\r\n",
      "[10] Using callback: SavePredictionImages(params=?)\r\n",
      "[11] Using callback: LearningCurve(params=?)\r\n",
      "[12] Using callback: DividerLine(params=?)\r\n",
      "Epoch 1/500\r\n",
      " 15/157 [=>............................] - ETA: 2:31:35 - loss: 0.5271 - sparse_categorical_accuracy: 0.8588\b\b\b\b\b\b\b\b\b\b\b\b\b\b\b\b\b\b\b\b\b\b\b\b\b\b\b\b\b\b\b\b\b\b\b\b\b\b\b\b\b\b\b\b\b\b\b\b\b\b\b\b\b\b\b\b\b\b\b\b\b\b\b\b\b\b\b\b\b\b\b\b\b\b\b\b\b\b\b\b\b\b\b\b\b\b\b\b\b\b\b\b\b\b\b\b\b\b\b\b\b\b\b\b\b\b\b\b\b\b\b\b\b\b\b\b\b\b\b\b\b\b\b\b\b\b\b\b\b\b\b\b\b\b\b\b\b\b\b\b\b\b\b\b\b\b\b\b\b\b\b\b\b\b\b\b\b\b\b\b\b\b\b\b\b\b\b\b\b\b\b\b\b\b\b\b\b\b\b\b\b\b\b\b\b\b\b\b\b\b\b\b\b\b\b\b\b\b\b\b\b\b\b\b\b\b\b\b\b\b\b\b\b\b\b\b\b\b\b\b\b\b\b\b\b\b\b\b\b\b\b\b\b\b\b\b\b\b\b\b\b\b\b\b\b\b\b\b\b\b\b\b\b\b\b\b\b\b\b\b\b\b\b\b\b\b\b\b\b\b\b\b\b\b\b\b\b\b\b\b\b\b\b\b\b\b\b\b\b\b\b\b\b\b\b\b\b\b\b\b\b\b\b\b\b\b\b\b\b\b\b\b\b\b\b\b\b\b\b\b\b\b\b\b\b\b\b\b\b\b\b\b\b\b\b\b\b\b\b\b\b\b\b\b\b\b\b\b\b\b\b\b\b\b\b\b\b\b\b\b\b\b\b\b\b\b\b\b\b\b\b\b\b\b\b\b\b\b\b\b\b\b\b\b\b\b\b\b\b\b\b\b\b\b\b\b\b\b\b\b\b\b\b\b\b\b\b\b\b\b\b\b\b\b\b\b\b\b\b\b\b\b\b\b\b\b\b\b\b\b\b\b\b\b\b\b\b\b\b\b\b\b\b\b\b\b\b\b\b\b\b\b\b\b\b\b\b\b\b\b\b\b\b\b\b\b\b\b\b\b\b\b\b\b\b\b\b\b\b\b\b\b\b\b\b\b\b\b\b\b\b\b\b\b\b\b\b\b\b\b\b\b\b\b\b\b\b\b\b\b\b\b\b\b\b\b\b\b\b\b\b\b\b\b\b\b\b\b\b\b\b\b\b\b\b\b\b\b\b\b\b\b\b\b\b\b\b\b\b\b\b\b\b\b\b\b\b\b\b\b\b\b\b\b\b\b\b\b\b\b\b\b\b\b\b\b\b\b\b\b\b\b\b\b\b\b\b\b\b\b\b\b\b\b\b\b\b\b\b\b\b\b\b\b\b\b\b\b\b\b\b\b\b\b\b\b\b\b\b\b\b\b\b\b\b\b\b\b\b\b\b\b\b\b\b\b\b\b\b\b\b\b\b\b\b\b\b\b\b\b\b\b\b\b\b\b\b\b\b\b\b\b\b\b\b\b\b\b\b\b\b\b\b\b\b\b\b\b\b\b\b\b\b\b\b\b\b\b\b\b\b\b\b\b\b\b\b\b\b\b\b\b\b\b\b\b\b\b\b\b\b\b\b\b\b\b\b\b\b\b\b\b\b\b\b\b\b\b\b\b\b\b\b\b\b\b\b\b\b\b\b\b\b\b\b\b\b\b\b\b\b\b\b\b\b\b\b\b\b\b\b\b\b\b\b\b\b\b\b\b\b\b\b\b\b\b\b\b\b\b\b\b\b\b\b\b\b\b\b\b\b\b\b\b\b\b\b\b\b\b\b\b\b\b\b\b\b\b\b\b\b\b\b\b\b\b\b\b\b\b\b\b\b\b\b\b\b\b\b\b\b\b\b\b\b\b\b\b\b\b\b\b\b\b\b\b\b\b\b\b\b\b\b\b\b\b\b\b\b\b\b\b\b\b\b\b\b\b\b\b\b\b\b\b\b\b\b\b\b\b\b\b\b\b\b\b\b\b\b\b\b\b\b\b\b\b\b\b\b\b\b\b\b\b\b\b\b\b\b\b\b\b\b\b\b\b\b\b\b\b\b\b\b\b\b\b\b\b\b\b\b\b\b\b\b\b\b\b\b\b\b\b\b\b\b\b\b\b\b\b\b\b\b\b\b\b\b\b\b\b\b\b\b\b\b\b\b\b\b\b\b\b\b\b\b\b\b\b\b\b\b\b\b\b\b\b\b\b\b\b\b\b\b\b\b\b\b\b\b\b\b\b\b\b\b\b\b\b\b\b\b\b\b\b\b\b\b\b\b\b\b\b\b\b\b\b\b\b\b\b\b\b\b\b\b\b\b\b\b\b\b\b\b\b\b\b\b\b\b\b\b\b\b\b\b\b\b\b\b\b\b\b\b\b\b\b\b\b\b\b\b\b\b\b\b\b\b\b\b\b\b\b\b\b\b\b\b\b\b\b\b\b\b\b\b\b\b\b\b\b\b\b\b\b\b\b\b\b\b\b\b\b\b\b\b\b\b\b\b\b\b\b\b\b\b\b\b\b\b\b\b\b\b\b\b\b\b\b\b\b\b\b\b\b\b\b\b\b\b\b\b\b\b\b\b\b\b\b\b\b\b\b\b\b\b\b\b\b\b\b\b\b\b\b\b\b\b\b\b\b\b\b\b\b\b\b\b\b\b\b\b\b\b\b\b\b\b\b\b\b\b\b\b\b\b\b\b\b\b\b\b\b\b\b\b\b\b\b\b\b\b\b\b\b\b\b\b\b\b\b\b\b\b\b\b\b\b\b\b\b\b\b\b\b\b\b\b\b\b\b\b\b\b\b\b\b\b\b\b\b\b\b\b\b\b\b\b\b\b\b\b\b\b\b\b\b\b\b\b\b\b\b\b\b\b\b\b\b\b\b\b\b\b\b\b\b\b\b\b\b\b\b\b\b\b\b\b\b\b\b\b\b\b\b\b\b\b\b\b\b\b\b\b\b\b\b\b\b\b\b\b\b\b\b\b\b\b\b\b\b\b\b\b\b\b\b\b\b\b\b\b\b\b\b\b\b\b\b\b\b\b\b\b\b\b\b\b\b\b\b\b\b\b\b\b\b\b\b\b\b\b\b\b\b\b\b\b\b\b\b\b\b\b\b\b\b\b\b\b\b\b\b\b\b\b\b\b\b\b\b\b\b\b\b\b\b\b\b\b\b\b\b\b\b\b\b\b\b\b\b\b\b\b\b\b\b\b\b\b\b\b\b\b\b\b\b\b\b\b\b\b\b\b\b\b\b\b\b\b\b\b\b\b\b\b\b\b\b\b\b\b\b\b\b\b\b\b\b\b\b\b\b\b\b\b\b\b\b\b\b\b\b\b\b\b\b\b\b\b\b\b\b^C\r\n"
     ]
    }
   ],
   "source": [
    "!mp train --num_GPUs=1 --overwrite  # Any number of GPUs (or 0)"
   ],
   "metadata": {
    "collapsed": false,
    "pycharm": {
     "name": "#%%\n"
    }
   }
  },
  {
   "cell_type": "code",
   "execution_count": null,
   "outputs": [],
   "source": [],
   "metadata": {
    "collapsed": false,
    "pycharm": {
     "name": "#%%\n"
    }
   }
  },
  {
   "cell_type": "code",
   "execution_count": null,
   "outputs": [],
   "source": [],
   "metadata": {
    "collapsed": false,
    "pycharm": {
     "name": "#%%\n"
    }
   }
  },
  {
   "cell_type": "code",
   "execution_count": null,
   "outputs": [],
   "source": [],
   "metadata": {
    "collapsed": false,
    "pycharm": {
     "name": "#%%\n"
    }
   }
  },
  {
   "cell_type": "code",
   "execution_count": 40,
   "outputs": [],
   "source": [
    "\n",
    "\n",
    "def train_val_split_from_dir(base_dir):\n",
    "    import os\n",
    "    import numpy as np\n",
    "    import sklearn\n",
    "    import shutil\n",
    "    def safe_mkdir(directory):\n",
    "        if not os.path.exists(directory):\n",
    "            os.mkdir(directory)\n",
    "    safe_mkdir(os.path.join(*[base_dir,'val']))\n",
    "    safe_mkdir(os.path.join(*[base_dir,'val','images']))\n",
    "    safe_mkdir(os.path.join(*[base_dir,'val','labels']))\n",
    "    \n",
    "    all_train_names = os.listdir(os.path.join(*[base_dir,'train','images']))\n",
    "    all_train_names = np.array(all_train_names)\n",
    "    sklearn.random.shuffle(all_train_names)\n",
    "    val_names = all_train_names[:len(all_train_names)//3]\n",
    "\n",
    "    for file_name in val_names:\n",
    "        image_path = os.path.join(*[base_dir,'train','images',file_name])\n",
    "        label_path = os.path.join(*[base_dir,'train','labels',file_name])\n",
    "        image_path_new = os.path.join(*[base_dir,'val','images'])\n",
    "        label_path_new = os.path.join(*[base_dir,'val','labels'])\n",
    "        shutil.move(image_path,image_path_new)\n",
    "        shutil.move(label_path,label_path_new)"
   ],
   "metadata": {
    "collapsed": false,
    "pycharm": {
     "name": "#%%\n"
    }
   }
  },
  {
   "cell_type": "code",
   "execution_count": 41,
   "outputs": [],
   "source": [
    "train_val_split_from_dir('/Users/px/GoogleDrive/MultiPlanarUNet/data_folder')"
   ],
   "metadata": {
    "collapsed": false,
    "pycharm": {
     "name": "#%%\n"
    }
   }
  },
  {
   "cell_type": "code",
   "execution_count": 28,
   "outputs": [
    {
     "data": {
      "text/plain": "'/Users/px/GoogleDrive/my_project'"
     },
     "execution_count": 28,
     "metadata": {},
     "output_type": "execute_result"
    }
   ],
   "source": [
    "import os\n",
    "os.getcwd()"
   ],
   "metadata": {
    "collapsed": false,
    "pycharm": {
     "name": "#%%\n"
    }
   }
  },
  {
   "cell_type": "code",
   "execution_count": null,
   "outputs": [],
   "source": [],
   "metadata": {
    "collapsed": false,
    "pycharm": {
     "name": "#%%\n"
    }
   }
  }
 ],
 "metadata": {
  "kernelspec": {
   "display_name": "Python 3",
   "language": "python",
   "name": "python3"
  },
  "language_info": {
   "codemirror_mode": {
    "name": "ipython",
    "version": 2
   },
   "file_extension": ".py",
   "mimetype": "text/x-python",
   "name": "python",
   "nbconvert_exporter": "python",
   "pygments_lexer": "ipython2",
   "version": "2.7.6"
  }
 },
 "nbformat": 4,
 "nbformat_minor": 0
}